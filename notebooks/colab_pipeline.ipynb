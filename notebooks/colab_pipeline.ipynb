{
 "cells": [
  {
   "cell_type": "markdown",
   "id": "cea94d00-0a27-4d54-82f2-eb30a4b15c40",
   "metadata": {},
   "source": [
    "[![Open In Colab](https://colab.research.google.com/assets/colab-badge.svg)](https://colab.research.google.com/github/MiqG/target_spotter/blob/main/notebooks/colab_pipeline.ipynb)"
   ]
  },
  {
   "cell_type": "markdown",
   "id": "c04f6ad6",
   "metadata": {},
   "source": [
    "# Run *spotter* pipelines interactively"
   ]
  },
  {
   "cell_type": "code",
   "execution_count": 1,
   "id": "e4bd5fae",
   "metadata": {
    "collapsed": true,
    "jupyter": {
     "outputs_hidden": true
    },
    "tags": []
   },
   "outputs": [
    {
     "ename": "ModuleNotFoundError",
     "evalue": "No module named 'google.colab'",
     "output_type": "error",
     "traceback": [
      "\u001b[0;31m---------------------------------------------------------------------------\u001b[0m",
      "\u001b[0;31mModuleNotFoundError\u001b[0m                       Traceback (most recent call last)",
      "Input \u001b[0;32mIn [1]\u001b[0m, in \u001b[0;36m<cell line: 2>\u001b[0;34m()\u001b[0m\n\u001b[1;32m      1\u001b[0m \u001b[38;5;66;03m#@markdown ## Load vast-tools output(s), select your options, then hit `Runtime` -> `Run All`\u001b[39;00m\n\u001b[0;32m----> 2\u001b[0m \u001b[38;5;28;01mfrom\u001b[39;00m \u001b[38;5;21;01mgoogle\u001b[39;00m\u001b[38;5;21;01m.\u001b[39;00m\u001b[38;5;21;01mcolab\u001b[39;00m \u001b[38;5;28;01mimport\u001b[39;00m files\n\u001b[1;32m      3\u001b[0m \u001b[38;5;28;01mimport\u001b[39;00m \u001b[38;5;21;01mpandas\u001b[39;00m \u001b[38;5;28;01mas\u001b[39;00m \u001b[38;5;21;01mpd\u001b[39;00m\n",
      "\u001b[0;31mModuleNotFoundError\u001b[0m: No module named 'google.colab'"
     ]
    }
   ],
   "source": [
    "#@markdown ## Load vast-tools output(s), select your options, then hit `Runtime` -> `Run All`\n",
    "from google.colab import files\n",
    "import pandas as pd"
   ]
  },
  {
   "cell_type": "code",
   "execution_count": 2,
   "id": "ce62d6f5",
   "metadata": {},
   "outputs": [],
   "source": [
    "#@markdown ### Load exon inclusion (PSI) table\n",
    "splicing_file = list(files.upload().keys())[0]\n",
    "splicing = pd.read_table(splicing_file)\n",
    "splicing"
   ]
  },
  {
   "cell_type": "code",
   "execution_count": 2,
   "id": "8ad8f24f",
   "metadata": {},
   "outputs": [],
   "source": [
    "#@markdown ### Load gene expression (TPM or Counts) table\n",
    "#@markdown Select your file corresponding to gene expression as TPM (default); in case you supply raw gene expression counts, please modify the parameter \"Gene Expression Data Type\" accordingly.\n",
    "#@markdown Make sure your gene expression data is **not** log-transformed.\n",
    "genexpr_file = list(files.upload().keys())[0]\n",
    "genexpr = pd.read_table(genexpr_file)\n",
    "genexpr"
   ]
  },
  {
   "cell_type": "markdown",
   "id": "3053e978",
   "metadata": {},
   "source": [
    "## Pipeline settings"
   ]
  },
  {
   "cell_type": "code",
   "execution_count": null,
   "id": "ef8d7f26",
   "metadata": {},
   "outputs": [],
   "source": [
    "#@markdown What type of gene expression data did you input?\n",
    "genexpr_data_type = \"TPM\" #@param [\"TPM\",\"Counts\"]\n",
    "\n",
    "#@markdown What is the name of the column containing splicing event identifiers from [`VastDB`](https://vastdb.crg.eu/wiki/Main_Page)?\n",
    "event_col = \"EVENT\" #@param {type: \"string\"}\n",
    "\n",
    "#@markdown What is the name of the column containing gene ensembl identifiers?\n",
    "gene_col = \"ID\" #@param {type: \"string\"}\n",
    "\n",
    "# process settings\n",
    "## Gene expression\n",
    "if genexpr_data_type==\"\":\n",
    "    normalize_counts=False\n",
    "    log_transform=True\n",
    "\n",
    "elif genexpr_data_type==\"Counts\":\n",
    "    normalize_counts=True\n",
    "    log_transform=False\n",
    "\n",
    "## create indexes and drop any column that is not numeric\n",
    "### splicing\n",
    "splicing = splicing.set_index(event_col).copy()\n",
    "splicing = splicing._get_numeric_data().copy()\n",
    "\n",
    "### genexpr\n",
    "genexpr = genexpr.set_index(event_col).copy()\n",
    "genexpr = genexpr._get_numeric_data().copy()"
   ]
  },
  {
   "cell_type": "code",
   "execution_count": 11,
   "id": "6d147c3d",
   "metadata": {
    "collapsed": true,
    "jupyter": {
     "outputs_hidden": true
    },
    "tags": []
   },
   "outputs": [
    {
     "name": "stdout",
     "output_type": "stream",
     "text": [
      "Requirement already satisfied: target_spotter in /home/miquel/mounts/crg_hpc/repositories/target_spotter (0.1.0)\n",
      "Requirement already satisfied: numpy in /home/miquel/miniconda3/lib/python3.8/site-packages (from target_spotter) (1.20.3)\n",
      "Requirement already satisfied: pandas in /home/miquel/miniconda3/lib/python3.8/site-packages (from target_spotter) (1.3.0)\n",
      "Requirement already satisfied: scipy in /home/miquel/miniconda3/lib/python3.8/site-packages (from target_spotter) (1.7.1)\n",
      "Requirement already satisfied: scikit-learn in /home/miquel/miniconda3/lib/python3.8/site-packages (from target_spotter) (1.0.2)\n",
      "Requirement already satisfied: joblib in /home/miquel/miniconda3/lib/python3.8/site-packages (from target_spotter) (1.1.0)\n",
      "Requirement already satisfied: tqdm in /home/miquel/miniconda3/lib/python3.8/site-packages (from target_spotter) (4.64.0)\n",
      "Requirement already satisfied: statsmodels in /home/miquel/miniconda3/lib/python3.8/site-packages (from target_spotter) (0.13.1)\n",
      "Requirement already satisfied: python-dateutil>=2.7.3 in /home/miquel/miniconda3/lib/python3.8/site-packages (from pandas->target_spotter) (2.8.2)\n",
      "Requirement already satisfied: pytz>=2017.3 in /home/miquel/miniconda3/lib/python3.8/site-packages (from pandas->target_spotter) (2021.3)\n",
      "Requirement already satisfied: threadpoolctl>=2.0.0 in /home/miquel/miniconda3/lib/python3.8/site-packages (from scikit-learn->target_spotter) (2.2.0)\n",
      "Requirement already satisfied: patsy>=0.5.2 in /home/miquel/miniconda3/lib/python3.8/site-packages (from statsmodels->target_spotter) (0.5.2)\n",
      "Requirement already satisfied: six in /home/miquel/miniconda3/lib/python3.8/site-packages (from patsy>=0.5.2->statsmodels->target_spotter) (1.16.0)\n",
      "\u001b[33mWARNING: Error parsing requirements for s3transfer: [Errno 2] No such file or directory: '/home/miquel/miniconda3/lib/python3.8/site-packages/s3transfer-0.5.0.dist-info/METADATA'\u001b[0m\u001b[33m\n",
      "\u001b[0m\u001b[33mWARNING: Error parsing requirements for jmespath: [Errno 2] No such file or directory: '/home/miquel/miniconda3/lib/python3.8/site-packages/jmespath-0.10.0.dist-info/METADATA'\u001b[0m\u001b[33m\n",
      "\u001b[0m\u001b[33mWARNING: Error parsing requirements for googleapis-common-protos: [Errno 2] No such file or directory: '/home/miquel/miniconda3/lib/python3.8/site-packages/googleapis_common_protos-1.52.0.dist-info/METADATA'\u001b[0m\u001b[33m\n",
      "\u001b[0m\u001b[33mWARNING: There was an error checking the latest version of pip.\u001b[0m\u001b[33m\n",
      "\u001b[0m"
     ]
    }
   ],
   "source": [
    "#@markdown ## Install dependencies\n",
    "!pip install target_spotter"
   ]
  },
  {
   "cell_type": "code",
   "execution_count": null,
   "id": "fc588890",
   "metadata": {},
   "outputs": [],
   "source": [
    "#@markdown ## Run *spotter*\n",
    "\n",
    "from target_spotter import SplicingDependency, DrugAssociation\n",
    "\n",
    "# compute splicing dependency\n",
    "estimator_spldep = SplicingDependency(normalize_counts=normalize_counts, log_transform=log_transform)\n",
    "spldep_means, max_harm_score_means = estimator_spldep.predict(splicing, genexpr)\n",
    "\n",
    "# compute drug sensitivity\n",
    "estimator = DrugAssociation()\n",
    "ic50_by_drug, _ = estimator.predict(spldep_means)"
   ]
  },
  {
   "cell_type": "code",
   "execution_count": null,
   "id": "82f88f02",
   "metadata": {},
   "outputs": [],
   "source": [
    "#@markdown ### Inspect predicted splicing dependencies\n",
    "spldep_means"
   ]
  },
  {
   "cell_type": "code",
   "execution_count": null,
   "id": "4fb5d539",
   "metadata": {},
   "outputs": [],
   "source": [
    "#@markdown ### Inspect predicted maximum harm scores\n",
    "max_harm_score_mean"
   ]
  },
  {
   "cell_type": "code",
   "execution_count": null,
   "id": "f2044708",
   "metadata": {},
   "outputs": [],
   "source": [
    "#@markdown ### Inspect predicted drug sensitivities of each sample\n",
    "ic50_by_drug"
   ]
  },
  {
   "cell_type": "markdown",
   "id": "c0b81c86",
   "metadata": {},
   "source": [
    "## Package and download results"
   ]
  },
  {
   "cell_type": "code",
   "execution_count": 10,
   "id": "f19d5efd",
   "metadata": {},
   "outputs": [],
   "source": [
    "from datetime import datetime\n",
    "import shutil\n",
    "from target_spotter.utils import prep_for_webapp\n",
    "\n",
    "# save resulting tables\n",
    "output_dir=\"%s-results\" % datetime.now().strftime(\"%Y%m%d%H%M%S\")\n",
    "SAVE_PARAMS = {\"sep\":\"\\t\", \"index\":False, \"compression\":\"gzip\"}\n",
    "\n",
    "os.makedirs(output_dir)\n",
    "spldep_means.reset_index().to_csv(os.path.join(output_dir,\"spldep.tsv.gz\"), **SAVE_PARAMS)\n",
    "max_harm_score_means.reset_index().to_csv(os.path.join(output_dir,\"max_harm.tsv.gz\"), **SAVE_PARAMS)\n",
    "ic50_by_drug.reset_index().to_csv(os.path.join(output_dir,\"ic50_by_drug.tsv.gz\"), **SAVE_PARAMS)\n",
    "\n",
    "# prepare results as sql to be uploaded to the web app\n",
    "prep_for_webapp(splicing, genexpr, spldep_means, max_harm_score_means, ic50_by_drug, os.path.join(output_dir,\"webapp_inputs\"))\n",
    "\n",
    "# package resulting tables into a .zip file that will be downloaded\n",
    "shutil.make_archive(output_dir, \"zip\", output_dir)\n",
    "\n",
    "print(\"Done!\")"
   ]
  }
 ],
 "metadata": {
  "kernelspec": {
   "display_name": "Python 3 (ipykernel)",
   "language": "python",
   "name": "python3"
  },
  "language_info": {
   "codemirror_mode": {
    "name": "ipython",
    "version": 3
   },
   "file_extension": ".py",
   "mimetype": "text/x-python",
   "name": "python",
   "nbconvert_exporter": "python",
   "pygments_lexer": "ipython3",
   "version": "3.8.3"
  }
 },
 "nbformat": 4,
 "nbformat_minor": 5
}
